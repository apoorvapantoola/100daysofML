{
 "cells": [
  {
   "cell_type": "markdown",
   "metadata": {},
   "source": [
    "# Step1 : Preprocessing"
   ]
  },
  {
   "cell_type": "code",
   "execution_count": 1,
   "metadata": {},
   "outputs": [],
   "source": [
    "import pandas as pd\n",
    "import numpy as np\n",
    "import matplotlib.pyplot as plt "
   ]
  },
  {
   "cell_type": "code",
   "execution_count": 2,
   "metadata": {},
   "outputs": [
    {
     "data": {
      "text/plain": [
       "x    0\n",
       "y    0\n",
       "dtype: int64"
      ]
     },
     "execution_count": 2,
     "metadata": {},
     "output_type": "execute_result"
    }
   ],
   "source": [
    "df_train = pd.read_csv('train.csv')\n",
    "df_test = pd.read_csv('test.csv')\n",
    "\n",
    "df_train.dropna(inplace= True)\n",
    "df_train.isnull().sum()"
   ]
  },
  {
   "cell_type": "code",
   "execution_count": 3,
   "metadata": {},
   "outputs": [],
   "source": [
    "x_train = df_train['x']\n",
    "y_train = df_train['y']\n",
    "x_test = df_test['x']\n",
    "y_test = df_test['y']\n",
    "\n",
    "x_train = np.array(x_train)\n",
    "y_train = np.array(y_train)\n",
    "x_test = np.array(x_test)\n",
    "y_test = np.array(y_test)\n",
    "\n",
    "x_train = x_train.reshape(-1,1)\n",
    "x_test = x_test.reshape(-1,1)"
   ]
  },
  {
   "cell_type": "markdown",
   "metadata": {},
   "source": [
    "# Step2 : finding the coefficients of the best fit line"
   ]
  },
  {
   "cell_type": "markdown",
   "metadata": {},
   "source": [
    "Gradient Descent"
   ]
  },
  {
   "cell_type": "code",
   "execution_count": 4,
   "metadata": {},
   "outputs": [],
   "source": [
    "#cost function is the average squared difference between \n",
    "def cost_fun(in1,in2,m,b):\n",
    "    x = len(in1)\n",
    "    total_mse = 0.0\n",
    "    for i in range(x):\n",
    "        total_mse += (in2[i]-((in1*m) + b))**2\n",
    "    return total_mse/x"
   ]
  },
  {
   "cell_type": "code",
   "execution_count": 5,
   "metadata": {},
   "outputs": [],
   "source": [
    "# to minimize mse gradient decent is used \n",
    "def grad_decent(in1,in2,m,b,lr):\n",
    "    m_deriv = 0\n",
    "    b_deriv = 0\n",
    "    x = len(in1)\n",
    "    \n",
    "    for i in range(x):\n",
    "        m_deriv += -2*in1[i] *(in2[i] - ((m*in1[i]) + b))\n",
    "        b_deriv += -2*(in2[i] - ((m*in1[i]) + b))\n",
    "        \n",
    "    \n",
    "    m -= (m_deriv/x)*lr\n",
    "    b -= (b_deriv/x)*lr\n",
    "    \n",
    "    return m,b"
   ]
  },
  {
   "cell_type": "code",
   "execution_count": 66,
   "metadata": {},
   "outputs": [],
   "source": [
    "def train(in1,in2,m,b,lr,itre):\n",
    "    cost_hist = []\n",
    "    \n",
    "    for i in range(itre):\n",
    "        m,b = grad_decent(in1,in2,m,b,lr)\n",
    "        \n",
    "        cost = cost_fun(in1,in2,m,b)\n",
    "        cost_hist.append(cost)\n",
    "        \n",
    "    print(\"Done!\")\n",
    "    \n",
    "    return m,b,cost_hist"
   ]
  },
  {
   "cell_type": "code",
   "execution_count": 67,
   "metadata": {},
   "outputs": [
    {
     "name": "stdout",
     "output_type": "stream",
     "text": [
      "Done!\n"
     ]
    }
   ],
   "source": [
    "m,b,c_hist = train(x_train,y_train,0,0,0.0001,700)"
   ]
  },
  {
   "cell_type": "markdown",
   "metadata": {},
   "source": [
    "# Step3 : Prediction(Gradient Descent)"
   ]
  },
  {
   "cell_type": "code",
   "execution_count": 68,
   "metadata": {},
   "outputs": [],
   "source": [
    "y_pred = b+m*x_test"
   ]
  },
  {
   "cell_type": "markdown",
   "metadata": {},
   "source": [
    "# Step4: checking the goodness of the model(Gradient Descent)"
   ]
  },
  {
   "cell_type": "code",
   "execution_count": 69,
   "metadata": {},
   "outputs": [
    {
     "name": "stdout",
     "output_type": "stream",
     "text": [
      "R2 Score: [0.95934092]\n"
     ]
    }
   ],
   "source": [
    "# calculating the R-Square\n",
    "mean_y_test = sum(y_test)/len(y_test)\n",
    "\n",
    "r1 = sum((y_test - mean_y_test)**2)\n",
    "r2 = sum((y_pred - mean_y_test)**2)\n",
    "\n",
    "r_sq = r2/r1\n",
    "\n",
    "print(\"R2 Score:\",r_sq)\n"
   ]
  },
  {
   "cell_type": "markdown",
   "metadata": {},
   "source": [
    "# Step5 : Visualization(Gradient Descent)"
   ]
  },
  {
   "cell_type": "code",
   "execution_count": 70,
   "metadata": {},
   "outputs": [
    {
     "data": {
      "image/png": "[encoded data removed]",
      "text/plain": [
       "<matplotlib.figure.Figure at 0x1a13aac9b0>"
      ]
     },
     "metadata": {},
     "output_type": "display_data"
    }
   ],
   "source": [
    "plt.scatter(x_test, y_test,color='r')\n",
    "plt.plot(x_test,y_pred,color='b')\n",
    "plt.xlabel(\"X-axis\")\n",
    "plt.ylabel(\"y-axis\")\n",
    "plt.show()"
   ]
  },
  {
   "cell_type": "markdown",
   "metadata": {},
   "source": [
    "# Step2 : finding the coefficients of the best fit line(Ordinary least square method)"
   ]
  },
  {
   "cell_type": "code",
   "execution_count": 71,
   "metadata": {},
   "outputs": [
    {
     "name": "stdout",
     "output_type": "stream",
     "text": [
      "[1.00065638] [-0.10726546]\n"
     ]
    }
   ],
   "source": [
    "# Ordinary Least square method \n",
    "# Mean X and Y\n",
    "mean_x = np.mean(x_train)\n",
    "mean_y = np.mean(y_train)\n",
    "\n",
    "# Total number of values\n",
    "m = len(x_train)\n",
    "\n",
    "# Using the formula to calculate b1 and b2\n",
    "numer = 0\n",
    "denom = 0\n",
    "for i in range(m):\n",
    "    numer += (x_train[i] - mean_x) * (y_train[i] - mean_y)\n",
    "    denom += (x_train[i] - mean_x) ** 2\n",
    "b1 = numer / denom\n",
    "b0 = mean_y - (b1 * mean_x)\n",
    "\n",
    "# Print coefficients\n",
    "print(b1, b0)"
   ]
  },
  {
   "cell_type": "markdown",
   "metadata": {},
   "source": [
    "# Step3 : Prediction(OLS)"
   ]
  },
  {
   "cell_type": "code",
   "execution_count": 73,
   "metadata": {},
   "outputs": [],
   "source": [
    "y_pr = b0+b1*x_test"
   ]
  },
  {
   "cell_type": "markdown",
   "metadata": {},
   "source": [
    "# Step4: checking the goodness of the model(OLS)"
   ]
  },
  {
   "cell_type": "code",
   "execution_count": 74,
   "metadata": {},
   "outputs": [
    {
     "name": "stdout",
     "output_type": "stream",
     "text": [
      "R2 Score: [0.96276141]\n"
     ]
    }
   ],
   "source": [
    "# calculating the R-Square\n",
    "mean_y_test = sum(y_test)/len(y_test)\n",
    "\n",
    "r1 = sum((y_test - mean_y_test)**2)\n",
    "r2 = sum((y_pr - mean_y_test)**2)\n",
    "\n",
    "r_sq = r2/r1\n",
    "\n",
    "print(\"R2 Score:\",r_sq)"
   ]
  },
  {
   "cell_type": "markdown",
   "metadata": {},
   "source": [
    "# Step5 : Visualization(OLS)"
   ]
  },
  {
   "cell_type": "code",
   "execution_count": 75,
   "metadata": {},
   "outputs": [
    {
     "data": {
      "image/png": "[encoded data removed]",
      "text/plain": [
       "<matplotlib.figure.Figure at 0x1a13bb19e8>"
      ]
     },
     "metadata": {},
     "output_type": "display_data"
    }
   ],
   "source": [
    "plt.scatter(x_test, y_test,color='r')\n",
    "plt.plot(x_test,y_pr,color='b')\n",
    "plt.xlabel(\"X-axis\")\n",
    "plt.ylabel(\"y-axis\")\n",
    "plt.show()"
   ]
  },
  {
   "cell_type": "code",
   "execution_count": null,
   "metadata": {},
   "outputs": [],
   "source": []
  }
 ],
 "metadata": {
  "kernelspec": {
   "display_name": "Python 3",
   "language": "python",
   "name": "python3"
  },
  "language_info": {
   "codemirror_mode": {
    "name": "ipython",
    "version": 3
   },
   "file_extension": ".py",
   "mimetype": "text/x-python",
   "name": "python",
   "nbconvert_exporter": "python",
   "pygments_lexer": "ipython3",
   "version": "3.6.4"
  }
 },
 "nbformat": 4,
 "nbformat_minor": 2
}
